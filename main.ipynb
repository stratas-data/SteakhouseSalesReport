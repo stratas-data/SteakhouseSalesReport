{
 "cells": [
  {
   "cell_type": "code",
   "execution_count": 44,
   "id": "11e98306-b4cf-4769-a5ed-70450b94dbab",
   "metadata": {
    "tags": []
   },
   "outputs": [],
   "source": [
    "import os\n",
    "from os import listdir\n",
    "import csv\n",
    "from pathlib import Path\n",
    "import json"
   ]
  },
  {
   "cell_type": "code",
   "execution_count": 35,
   "id": "1d3347e8-3f59-4b80-b6a1-1f94cd6ea2de",
   "metadata": {
    "tags": []
   },
   "outputs": [],
   "source": [
    "menu_filepath = Path('XXXXX')\n",
    "sales_filepath = Path('XXXXX')"
   ]
  },
  {
   "cell_type": "code",
   "execution_count": 36,
   "id": "133d3b62-7b61-476b-9c19-9b91f2df7359",
   "metadata": {
    "tags": []
   },
   "outputs": [],
   "source": [
    "#Empty lists items in which to input the contents of menu_data.csv and sales_data.csv, respectively\n",
    "menu = []\n",
    "sales = []"
   ]
  },
  {
   "cell_type": "code",
   "execution_count": 37,
   "id": "7cb89536-8342-412e-845a-841df255a94e",
   "metadata": {
    "tags": []
   },
   "outputs": [
    {
     "name": "stdout",
     "output_type": "stream",
     "text": [
      "<class '_io.TextIOWrapper'>\n",
      "<class '_csv.reader'>\n",
      "HEADER: ['item', 'category', 'description', 'price', 'cost']\n"
     ]
    }
   ],
   "source": [
    "#Menu_data.csv read into list item 'menu'\n",
    "with open(menu_filepath) as file:\n",
    "    print(type(file))\n",
    "    csvreader = csv.reader(file, delimiter=',')\n",
    "    print(type(csvreader))\n",
    "    header = next(csvreader)\n",
    "    print(f\"HEADER: {header}\")\n",
    "    for row in csvreader:\n",
    "        menu.append(row)"
   ]
  },
  {
   "cell_type": "code",
   "execution_count": 38,
   "id": "3baa1d72-b053-4b75-8cc7-c795d2623518",
   "metadata": {
    "tags": []
   },
   "outputs": [
    {
     "data": {
      "text/plain": [
       "['edamame', 'appetizers', 'boiled soybeans, maldon sea salt', '4', '1']"
      ]
     },
     "execution_count": 38,
     "metadata": {},
     "output_type": "execute_result"
    }
   ],
   "source": [
    "#Confirmation\n",
    "menu[0]"
   ]
  },
  {
   "cell_type": "code",
   "execution_count": 39,
   "id": "823f107b-1f21-436f-89f3-8b88233c64aa",
   "metadata": {
    "tags": []
   },
   "outputs": [
    {
     "name": "stdout",
     "output_type": "stream",
     "text": [
      "<class '_io.TextIOWrapper'>\n",
      "<class '_csv.reader'>\n",
      "HEADER: ['Line_Item_ID', 'Date', 'Credit_Card_Number', 'Quantity', 'Menu_Item']\n"
     ]
    }
   ],
   "source": [
    "#Sales_data.csv read into list item 'sales'\n",
    "with open(sales_filepath) as file:\n",
    "    print(type(file))\n",
    "    csvreader = csv.reader(file, delimiter=',')\n",
    "    print(type(csvreader))\n",
    "    header = next(csvreader)\n",
    "    print(f\"HEADER: {header}\")\n",
    "    for row in csvreader:\n",
    "        sales.append(row)"
   ]
  },
  {
   "cell_type": "code",
   "execution_count": 40,
   "id": "a9cc9a9a-b1e5-4aae-aea0-af3fabe34ac2",
   "metadata": {
    "tags": []
   },
   "outputs": [
    {
     "name": "stdout",
     "output_type": "stream",
     "text": [
      "[['1', '01-01-2017', '7437926611570799', '1', 'spicy miso ramen'], ['74124', '12-31-2018', '5981057609583653', '2', 'spicy miso ramen']]\n"
     ]
    }
   ],
   "source": [
    "#Confirmation and measuring range of months\n",
    "range = sales[::len(sales)-1]\n",
    "print(str(range))"
   ]
  },
  {
   "cell_type": "code",
   "execution_count": 41,
   "id": "7ee630e1-89c8-421f-9759-adc611bedc78",
   "metadata": {
    "tags": []
   },
   "outputs": [],
   "source": [
    "\"\"\"\n",
    "An empty dictionary is created which will be the final report.\n",
    "A for loop is created:\n",
    "The variable 'quantity' is set to the fourth column of 'sales' list item, while the variable 'menu_item' is set to the fifth column.\n",
    "A conditional is used to pull the fifth column of 'sales' into the empty dictionary 'report,' complete with blank keys which will represent count, revenue, cost, and profit in the final report.\n",
    "A nested for loop is created for the data from 'menu' list item, which will be compared to the above data of 'sales' list item.\n",
    "Price, cost, and name are created as variables and defined as the appropriate columns in 'menu' list item.\n",
    "A final conditional is created in order to compare only those menu items which both 'menu' and 'sales' share.\n",
    "The blank keys to the dictionary 'report' mentioned above are defined using the variables created in both the master for loop and the nested for loop.\n",
    "\"\"\"\n",
    "\n",
    "report = {}\n",
    "\n",
    "for row in sales:\n",
    "    quantity = int(row[3])\n",
    "    menu_item = row[4]\n",
    "    if menu_item not in report.keys():\n",
    "        report[menu_item] = {\n",
    "    '01-count': 0,\n",
    "    '02-revenue': 0,\n",
    "    '03-cogs': 0,\n",
    "    '04-profit': 0,\n",
    "    }\n",
    "    for item in menu:\n",
    "        price = float(item[3])\n",
    "        cost = float(item[4])\n",
    "        name = item[0]\n",
    "        profit = price - cost\n",
    "        if name == menu_item:\n",
    "            report[menu_item][\"01-count\"] += quantity\n",
    "            report[menu_item][\"02-revenue\"] += price * quantity\n",
    "            report[menu_item][\"03-cogs\"] += cost * quantity\n",
    "            report[menu_item][\"04-profit\"] += profit * quantity"
   ]
  },
  {
   "cell_type": "code",
   "execution_count": 45,
   "id": "8d2555f4-8593-40ef-aa97-1d1372298e69",
   "metadata": {
    "tags": []
   },
   "outputs": [
    {
     "name": "stdout",
     "output_type": "stream",
     "text": [
      "{\n",
      "    \"burnt garlic tonkotsu ramen\": {\n",
      "        \"01-count\": 9070,\n",
      "        \"02-revenue\": 126980.0,\n",
      "        \"03-cogs\": 54420.0,\n",
      "        \"04-profit\": 72560.0\n",
      "    },\n",
      "    \"miso crab ramen\": {\n",
      "        \"01-count\": 8890,\n",
      "        \"02-revenue\": 106680.0,\n",
      "        \"03-cogs\": 53340.0,\n",
      "        \"04-profit\": 53340.0\n",
      "    },\n",
      "    \"nagomi shoyu\": {\n",
      "        \"01-count\": 9132,\n",
      "        \"02-revenue\": 100452.0,\n",
      "        \"03-cogs\": 45660.0,\n",
      "        \"04-profit\": 54792.0\n",
      "    },\n",
      "    \"shio ramen\": {\n",
      "        \"01-count\": 9180,\n",
      "        \"02-revenue\": 100980.0,\n",
      "        \"03-cogs\": 45900.0,\n",
      "        \"04-profit\": 55080.0\n",
      "    },\n",
      "    \"soft-shell miso crab ramen\": {\n",
      "        \"01-count\": 9130,\n",
      "        \"02-revenue\": 127820.0,\n",
      "        \"03-cogs\": 63910.0,\n",
      "        \"04-profit\": 63910.0\n",
      "    },\n",
      "    \"spicy miso ramen\": {\n",
      "        \"01-count\": 9238,\n",
      "        \"02-revenue\": 110856.0,\n",
      "        \"03-cogs\": 46190.0,\n",
      "        \"04-profit\": 64666.0\n",
      "    },\n",
      "    \"tonkotsu ramen\": {\n",
      "        \"01-count\": 9288,\n",
      "        \"02-revenue\": 120744.0,\n",
      "        \"03-cogs\": 55728.0,\n",
      "        \"04-profit\": 65016.0\n",
      "    },\n",
      "    \"tori paitan ramen\": {\n",
      "        \"01-count\": 9156,\n",
      "        \"02-revenue\": 119028.0,\n",
      "        \"03-cogs\": 54936.0,\n",
      "        \"04-profit\": 64092.0\n",
      "    },\n",
      "    \"truffle butter ramen\": {\n",
      "        \"01-count\": 8982,\n",
      "        \"02-revenue\": 125748.0,\n",
      "        \"03-cogs\": 62874.0,\n",
      "        \"04-profit\": 62874.0\n",
      "    },\n",
      "    \"vegetarian curry + king trumpet mushroom ramen\": {\n",
      "        \"01-count\": 8824,\n",
      "        \"02-revenue\": 114712.0,\n",
      "        \"03-cogs\": 61768.0,\n",
      "        \"04-profit\": 52944.0\n",
      "    },\n",
      "    \"vegetarian spicy miso\": {\n",
      "        \"01-count\": 9216,\n",
      "        \"02-revenue\": 110592.0,\n",
      "        \"03-cogs\": 46080.0,\n",
      "        \"04-profit\": 64512.0\n",
      "    }\n",
      "}\n"
     ]
    }
   ],
   "source": [
    "print(json.dumps(report, sort_keys=True, indent=4))"
   ]
  },
  {
   "cell_type": "code",
   "execution_count": 30,
   "id": "c1d8b5bf-fa26-4a82-83eb-47cbe5c9099f",
   "metadata": {},
   "outputs": [],
   "source": [
    "#Results are printed as proper table\n",
    "with open('salesreport.csv', 'w') as csv_file:  \n",
    "    writer = csv.writer(csv_file)\n",
    "    for key, value in report.items():\n",
    "        writer.writerow([key, value])"
   ]
  }
 ],
 "metadata": {
  "kernelspec": {
   "display_name": "Python 3 (ipykernel)",
   "language": "python",
   "name": "python3"
  },
  "language_info": {
   "codemirror_mode": {
    "name": "ipython",
    "version": 3
   },
   "file_extension": ".py",
   "mimetype": "text/x-python",
   "name": "python",
   "nbconvert_exporter": "python",
   "pygments_lexer": "ipython3",
   "version": "3.11.5"
  }
 },
 "nbformat": 4,
 "nbformat_minor": 5
}
